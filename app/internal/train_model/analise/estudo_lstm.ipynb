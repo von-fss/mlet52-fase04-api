{
 "cells": [
  {
   "cell_type": "code",
   "execution_count": 62,
   "metadata": {},
   "outputs": [],
   "source": [
    "import yfinance as yf\n",
    "import pandas as pd\n",
    "\n",
    "from fastapi.responses import JSONResponse\n",
    "\n",
    "import numpy as np\n",
    "from tensorflow import keras\n",
    "from keras.models import Sequential, load_model\n",
    "from keras.layers import LSTM, Dense\n",
    "from sklearn.preprocessing import MinMaxScaler\n"
   ]
  },
  {
   "cell_type": "code",
   "execution_count": 2,
   "metadata": {},
   "outputs": [],
   "source": [
    "def read_yfinance():\n",
    "    nvda = yf.Ticker(\"NVDA\").history(period=\"1mo\").reset_index()\n",
    "    nvda['Date'] = pd.to_datetime(nvda['Date']).dt.date\n",
    "    nvda = nvda.drop([\"Dividends\", \"Stock Splits\"], axis=1)\n",
    "    return nvda"
   ]
  },
  {
   "cell_type": "code",
   "execution_count": 34,
   "metadata": {},
   "outputs": [
    {
     "data": {
      "text/html": [
       "<div>\n",
       "<style scoped>\n",
       "    .dataframe tbody tr th:only-of-type {\n",
       "        vertical-align: middle;\n",
       "    }\n",
       "\n",
       "    .dataframe tbody tr th {\n",
       "        vertical-align: top;\n",
       "    }\n",
       "\n",
       "    .dataframe thead th {\n",
       "        text-align: right;\n",
       "    }\n",
       "</style>\n",
       "<table border=\"1\" class=\"dataframe\">\n",
       "  <thead>\n",
       "    <tr style=\"text-align: right;\">\n",
       "      <th></th>\n",
       "      <th>Date</th>\n",
       "      <th>Open</th>\n",
       "      <th>High</th>\n",
       "      <th>Low</th>\n",
       "      <th>Close</th>\n",
       "      <th>Volume</th>\n",
       "    </tr>\n",
       "  </thead>\n",
       "  <tbody>\n",
       "    <tr>\n",
       "      <th>0</th>\n",
       "      <td>2024-10-09</td>\n",
       "      <td>134.110001</td>\n",
       "      <td>134.520004</td>\n",
       "      <td>131.380005</td>\n",
       "      <td>132.649994</td>\n",
       "      <td>246191600</td>\n",
       "    </tr>\n",
       "    <tr>\n",
       "      <th>1</th>\n",
       "      <td>2024-10-10</td>\n",
       "      <td>131.910004</td>\n",
       "      <td>135.000000</td>\n",
       "      <td>131.000000</td>\n",
       "      <td>134.809998</td>\n",
       "      <td>242311300</td>\n",
       "    </tr>\n",
       "    <tr>\n",
       "      <th>2</th>\n",
       "      <td>2024-10-11</td>\n",
       "      <td>134.009995</td>\n",
       "      <td>135.779999</td>\n",
       "      <td>133.660004</td>\n",
       "      <td>134.800003</td>\n",
       "      <td>170209500</td>\n",
       "    </tr>\n",
       "    <tr>\n",
       "      <th>3</th>\n",
       "      <td>2024-10-14</td>\n",
       "      <td>136.470001</td>\n",
       "      <td>139.600006</td>\n",
       "      <td>136.300003</td>\n",
       "      <td>138.070007</td>\n",
       "      <td>232347700</td>\n",
       "    </tr>\n",
       "    <tr>\n",
       "      <th>4</th>\n",
       "      <td>2024-10-15</td>\n",
       "      <td>137.869995</td>\n",
       "      <td>138.570007</td>\n",
       "      <td>128.740005</td>\n",
       "      <td>131.600006</td>\n",
       "      <td>377831000</td>\n",
       "    </tr>\n",
       "    <tr>\n",
       "      <th>5</th>\n",
       "      <td>2024-10-16</td>\n",
       "      <td>133.979996</td>\n",
       "      <td>136.619995</td>\n",
       "      <td>131.580002</td>\n",
       "      <td>135.720001</td>\n",
       "      <td>264879700</td>\n",
       "    </tr>\n",
       "    <tr>\n",
       "      <th>6</th>\n",
       "      <td>2024-10-17</td>\n",
       "      <td>139.339996</td>\n",
       "      <td>140.889999</td>\n",
       "      <td>136.869995</td>\n",
       "      <td>136.929993</td>\n",
       "      <td>306435900</td>\n",
       "    </tr>\n",
       "    <tr>\n",
       "      <th>7</th>\n",
       "      <td>2024-10-18</td>\n",
       "      <td>138.669998</td>\n",
       "      <td>138.899994</td>\n",
       "      <td>137.279999</td>\n",
       "      <td>138.000000</td>\n",
       "      <td>176090200</td>\n",
       "    </tr>\n",
       "    <tr>\n",
       "      <th>8</th>\n",
       "      <td>2024-10-21</td>\n",
       "      <td>138.130005</td>\n",
       "      <td>143.710007</td>\n",
       "      <td>138.000000</td>\n",
       "      <td>143.710007</td>\n",
       "      <td>264554500</td>\n",
       "    </tr>\n",
       "    <tr>\n",
       "      <th>9</th>\n",
       "      <td>2024-10-22</td>\n",
       "      <td>142.910004</td>\n",
       "      <td>144.419998</td>\n",
       "      <td>141.779999</td>\n",
       "      <td>143.589996</td>\n",
       "      <td>226311600</td>\n",
       "    </tr>\n",
       "    <tr>\n",
       "      <th>10</th>\n",
       "      <td>2024-10-23</td>\n",
       "      <td>142.029999</td>\n",
       "      <td>142.429993</td>\n",
       "      <td>137.460007</td>\n",
       "      <td>139.559998</td>\n",
       "      <td>285930000</td>\n",
       "    </tr>\n",
       "    <tr>\n",
       "      <th>11</th>\n",
       "      <td>2024-10-24</td>\n",
       "      <td>140.820007</td>\n",
       "      <td>141.350006</td>\n",
       "      <td>138.460007</td>\n",
       "      <td>140.410004</td>\n",
       "      <td>172354900</td>\n",
       "    </tr>\n",
       "    <tr>\n",
       "      <th>12</th>\n",
       "      <td>2024-10-25</td>\n",
       "      <td>140.929993</td>\n",
       "      <td>144.130005</td>\n",
       "      <td>140.800003</td>\n",
       "      <td>141.539993</td>\n",
       "      <td>205122100</td>\n",
       "    </tr>\n",
       "    <tr>\n",
       "      <th>13</th>\n",
       "      <td>2024-10-28</td>\n",
       "      <td>143.000000</td>\n",
       "      <td>143.139999</td>\n",
       "      <td>140.050003</td>\n",
       "      <td>140.520004</td>\n",
       "      <td>173586700</td>\n",
       "    </tr>\n",
       "    <tr>\n",
       "      <th>14</th>\n",
       "      <td>2024-10-29</td>\n",
       "      <td>140.289993</td>\n",
       "      <td>142.259995</td>\n",
       "      <td>138.899994</td>\n",
       "      <td>141.250000</td>\n",
       "      <td>157593600</td>\n",
       "    </tr>\n",
       "    <tr>\n",
       "      <th>15</th>\n",
       "      <td>2024-10-30</td>\n",
       "      <td>139.539993</td>\n",
       "      <td>140.330002</td>\n",
       "      <td>136.809998</td>\n",
       "      <td>139.339996</td>\n",
       "      <td>179418100</td>\n",
       "    </tr>\n",
       "    <tr>\n",
       "      <th>16</th>\n",
       "      <td>2024-10-31</td>\n",
       "      <td>137.600006</td>\n",
       "      <td>137.610001</td>\n",
       "      <td>132.110001</td>\n",
       "      <td>132.759995</td>\n",
       "      <td>270039600</td>\n",
       "    </tr>\n",
       "    <tr>\n",
       "      <th>17</th>\n",
       "      <td>2024-11-01</td>\n",
       "      <td>134.699997</td>\n",
       "      <td>137.309998</td>\n",
       "      <td>134.570007</td>\n",
       "      <td>135.399994</td>\n",
       "      <td>207127800</td>\n",
       "    </tr>\n",
       "    <tr>\n",
       "      <th>18</th>\n",
       "      <td>2024-11-04</td>\n",
       "      <td>137.210007</td>\n",
       "      <td>138.960007</td>\n",
       "      <td>135.570007</td>\n",
       "      <td>136.050003</td>\n",
       "      <td>187528200</td>\n",
       "    </tr>\n",
       "    <tr>\n",
       "      <th>19</th>\n",
       "      <td>2024-11-05</td>\n",
       "      <td>137.449997</td>\n",
       "      <td>140.369995</td>\n",
       "      <td>137.330002</td>\n",
       "      <td>139.910004</td>\n",
       "      <td>160537400</td>\n",
       "    </tr>\n",
       "    <tr>\n",
       "      <th>20</th>\n",
       "      <td>2024-11-06</td>\n",
       "      <td>142.960007</td>\n",
       "      <td>146.490005</td>\n",
       "      <td>141.960007</td>\n",
       "      <td>145.610001</td>\n",
       "      <td>242043900</td>\n",
       "    </tr>\n",
       "    <tr>\n",
       "      <th>21</th>\n",
       "      <td>2024-11-07</td>\n",
       "      <td>146.389999</td>\n",
       "      <td>148.929993</td>\n",
       "      <td>146.169998</td>\n",
       "      <td>148.880005</td>\n",
       "      <td>207323300</td>\n",
       "    </tr>\n",
       "    <tr>\n",
       "      <th>22</th>\n",
       "      <td>2024-11-08</td>\n",
       "      <td>148.770004</td>\n",
       "      <td>149.770004</td>\n",
       "      <td>146.259995</td>\n",
       "      <td>147.630005</td>\n",
       "      <td>175238000</td>\n",
       "    </tr>\n",
       "  </tbody>\n",
       "</table>\n",
       "</div>"
      ],
      "text/plain": [
       "          Date        Open        High         Low       Close     Volume\n",
       "0   2024-10-09  134.110001  134.520004  131.380005  132.649994  246191600\n",
       "1   2024-10-10  131.910004  135.000000  131.000000  134.809998  242311300\n",
       "2   2024-10-11  134.009995  135.779999  133.660004  134.800003  170209500\n",
       "3   2024-10-14  136.470001  139.600006  136.300003  138.070007  232347700\n",
       "4   2024-10-15  137.869995  138.570007  128.740005  131.600006  377831000\n",
       "5   2024-10-16  133.979996  136.619995  131.580002  135.720001  264879700\n",
       "6   2024-10-17  139.339996  140.889999  136.869995  136.929993  306435900\n",
       "7   2024-10-18  138.669998  138.899994  137.279999  138.000000  176090200\n",
       "8   2024-10-21  138.130005  143.710007  138.000000  143.710007  264554500\n",
       "9   2024-10-22  142.910004  144.419998  141.779999  143.589996  226311600\n",
       "10  2024-10-23  142.029999  142.429993  137.460007  139.559998  285930000\n",
       "11  2024-10-24  140.820007  141.350006  138.460007  140.410004  172354900\n",
       "12  2024-10-25  140.929993  144.130005  140.800003  141.539993  205122100\n",
       "13  2024-10-28  143.000000  143.139999  140.050003  140.520004  173586700\n",
       "14  2024-10-29  140.289993  142.259995  138.899994  141.250000  157593600\n",
       "15  2024-10-30  139.539993  140.330002  136.809998  139.339996  179418100\n",
       "16  2024-10-31  137.600006  137.610001  132.110001  132.759995  270039600\n",
       "17  2024-11-01  134.699997  137.309998  134.570007  135.399994  207127800\n",
       "18  2024-11-04  137.210007  138.960007  135.570007  136.050003  187528200\n",
       "19  2024-11-05  137.449997  140.369995  137.330002  139.910004  160537400\n",
       "20  2024-11-06  142.960007  146.490005  141.960007  145.610001  242043900\n",
       "21  2024-11-07  146.389999  148.929993  146.169998  148.880005  207323300\n",
       "22  2024-11-08  148.770004  149.770004  146.259995  147.630005  175238000"
      ]
     },
     "execution_count": 34,
     "metadata": {},
     "output_type": "execute_result"
    }
   ],
   "source": [
    "read_yfinance()"
   ]
  },
  {
   "cell_type": "code",
   "execution_count": 36,
   "metadata": {},
   "outputs": [],
   "source": [
    "# data = read_yfinance().select_dtypes(include=np.number)\n",
    "data = pd.DataFrame(read_yfinance()['Close'])\n",
    "scaler = MinMaxScaler(feature_range=(0, 1))\n",
    "scaled_data = scaler.fit_transform(data)"
   ]
  },
  {
   "cell_type": "code",
   "execution_count": 37,
   "metadata": {},
   "outputs": [
    {
     "name": "stdout",
     "output_type": "stream",
     "text": [
      "23\n",
      "range(0, -38)\n",
      "[0.18576341 0.18518502 0.37442139 0.         0.23842566 0.30844832\n",
      " 0.37037004 0.70081027 0.69386522 0.46064769 0.50983786 0.57523078\n",
      " 0.51620363 0.55844876 0.44791613 0.06712896 0.21990672 0.25752299\n",
      " 0.48090267 0.81076363 1.         0.92766203]\n"
     ]
    }
   ],
   "source": [
    "data = scaled_data\n",
    "\n",
    "print(len(data))\n",
    "print(range(len(data)-60-1))\n",
    "print(data[1:(1+60), 0])"
   ]
  },
  {
   "cell_type": "code",
   "execution_count": 38,
   "metadata": {},
   "outputs": [
    {
     "data": {
      "text/plain": [
       "array([[0.06076319],\n",
       "       [0.18576341],\n",
       "       [0.18518502],\n",
       "       [0.37442139],\n",
       "       [0.        ],\n",
       "       [0.23842566],\n",
       "       [0.30844832],\n",
       "       [0.37037004],\n",
       "       [0.70081027],\n",
       "       [0.69386522],\n",
       "       [0.46064769],\n",
       "       [0.50983786],\n",
       "       [0.57523078],\n",
       "       [0.51620363],\n",
       "       [0.55844876],\n",
       "       [0.44791613],\n",
       "       [0.06712896],\n",
       "       [0.21990672],\n",
       "       [0.25752299],\n",
       "       [0.48090267],\n",
       "       [0.81076363],\n",
       "       [1.        ],\n",
       "       [0.92766203]])"
      ]
     },
     "execution_count": 38,
     "metadata": {},
     "output_type": "execute_result"
    }
   ],
   "source": [
    "scaled_data"
   ]
  },
  {
   "cell_type": "code",
   "execution_count": 40,
   "metadata": {},
   "outputs": [
    {
     "data": {
      "text/plain": [
       "array([0.06076319, 0.18576341, 0.18518502])"
      ]
     },
     "execution_count": 40,
     "metadata": {},
     "output_type": "execute_result"
    }
   ],
   "source": [
    "scaled_data[0:3,0]"
   ]
  },
  {
   "cell_type": "code",
   "execution_count": 41,
   "metadata": {},
   "outputs": [],
   "source": [
    "def create_dataset(data, time_step=1):\n",
    "    X, y = [], []\n",
    "    for i in range(len(data)-time_step-1):\n",
    "        X.append(data[i:(i+time_step), 0])\n",
    "        y.append(data[i + time_step, 0])\n",
    "    return np.array(X), np.array(y)"
   ]
  },
  {
   "cell_type": "code",
   "execution_count": 43,
   "metadata": {},
   "outputs": [
    {
     "name": "stdout",
     "output_type": "stream",
     "text": [
      "23\n"
     ]
    }
   ],
   "source": [
    "print(len(scaled_data))"
   ]
  },
  {
   "cell_type": "code",
   "execution_count": 48,
   "metadata": {},
   "outputs": [
    {
     "name": "stdout",
     "output_type": "stream",
     "text": [
      "[[0.06076319 0.18576341 0.18518502]\n",
      " [0.18576341 0.18518502 0.37442139]\n",
      " [0.18518502 0.37442139 0.        ]\n",
      " [0.37442139 0.         0.23842566]\n",
      " [0.         0.23842566 0.30844832]\n",
      " [0.23842566 0.30844832 0.37037004]\n",
      " [0.30844832 0.37037004 0.70081027]\n",
      " [0.37037004 0.70081027 0.69386522]\n",
      " [0.70081027 0.69386522 0.46064769]\n",
      " [0.69386522 0.46064769 0.50983786]\n",
      " [0.46064769 0.50983786 0.57523078]\n",
      " [0.50983786 0.57523078 0.51620363]\n",
      " [0.57523078 0.51620363 0.55844876]\n",
      " [0.51620363 0.55844876 0.44791613]\n",
      " [0.55844876 0.44791613 0.06712896]\n",
      " [0.44791613 0.06712896 0.21990672]\n",
      " [0.06712896 0.21990672 0.25752299]\n",
      " [0.21990672 0.25752299 0.48090267]\n",
      " [0.25752299 0.48090267 0.81076363]]\n"
     ]
    }
   ],
   "source": [
    "time_step = 3\n",
    "\n",
    "X, y = create_dataset(scaled_data, time_step)\n",
    "print(X)"
   ]
  },
  {
   "cell_type": "code",
   "execution_count": 49,
   "metadata": {},
   "outputs": [
    {
     "name": "stdout",
     "output_type": "stream",
     "text": [
      "19\n"
     ]
    }
   ],
   "source": [
    "print(len(X))"
   ]
  },
  {
   "cell_type": "code",
   "execution_count": 50,
   "metadata": {},
   "outputs": [
    {
     "data": {
      "text/plain": [
       "19"
      ]
     },
     "execution_count": 50,
     "metadata": {},
     "output_type": "execute_result"
    }
   ],
   "source": [
    "X.shape[0]"
   ]
  },
  {
   "cell_type": "code",
   "execution_count": 51,
   "metadata": {},
   "outputs": [
    {
     "data": {
      "text/plain": [
       "3"
      ]
     },
     "execution_count": 51,
     "metadata": {},
     "output_type": "execute_result"
    }
   ],
   "source": [
    "X.shape[1]"
   ]
  },
  {
   "cell_type": "code",
   "execution_count": 53,
   "metadata": {},
   "outputs": [
    {
     "name": "stdout",
     "output_type": "stream",
     "text": [
      "[[[0.06076319]\n",
      "  [0.18576341]\n",
      "  [0.18518502]]\n",
      "\n",
      " [[0.18576341]\n",
      "  [0.18518502]\n",
      "  [0.37442139]]\n",
      "\n",
      " [[0.18518502]\n",
      "  [0.37442139]\n",
      "  [0.        ]]\n",
      "\n",
      " [[0.37442139]\n",
      "  [0.        ]\n",
      "  [0.23842566]]\n",
      "\n",
      " [[0.        ]\n",
      "  [0.23842566]\n",
      "  [0.30844832]]\n",
      "\n",
      " [[0.23842566]\n",
      "  [0.30844832]\n",
      "  [0.37037004]]\n",
      "\n",
      " [[0.30844832]\n",
      "  [0.37037004]\n",
      "  [0.70081027]]\n",
      "\n",
      " [[0.37037004]\n",
      "  [0.70081027]\n",
      "  [0.69386522]]\n",
      "\n",
      " [[0.70081027]\n",
      "  [0.69386522]\n",
      "  [0.46064769]]\n",
      "\n",
      " [[0.69386522]\n",
      "  [0.46064769]\n",
      "  [0.50983786]]\n",
      "\n",
      " [[0.46064769]\n",
      "  [0.50983786]\n",
      "  [0.57523078]]\n",
      "\n",
      " [[0.50983786]\n",
      "  [0.57523078]\n",
      "  [0.51620363]]\n",
      "\n",
      " [[0.57523078]\n",
      "  [0.51620363]\n",
      "  [0.55844876]]\n",
      "\n",
      " [[0.51620363]\n",
      "  [0.55844876]\n",
      "  [0.44791613]]\n",
      "\n",
      " [[0.55844876]\n",
      "  [0.44791613]\n",
      "  [0.06712896]]\n",
      "\n",
      " [[0.44791613]\n",
      "  [0.06712896]\n",
      "  [0.21990672]]\n",
      "\n",
      " [[0.06712896]\n",
      "  [0.21990672]\n",
      "  [0.25752299]]\n",
      "\n",
      " [[0.21990672]\n",
      "  [0.25752299]\n",
      "  [0.48090267]]\n",
      "\n",
      " [[0.25752299]\n",
      "  [0.48090267]\n",
      "  [0.81076363]]]\n"
     ]
    }
   ],
   "source": [
    "X = X.reshape(X.shape[0], X.shape[1], 1)\n",
    "print(X)"
   ]
  },
  {
   "cell_type": "code",
   "execution_count": 59,
   "metadata": {},
   "outputs": [
    {
     "data": {
      "text/html": [
       "<pre style=\"white-space:pre;overflow-x:auto;line-height:normal;font-family:Menlo,'DejaVu Sans Mono',consolas,'Courier New',monospace\"><span style=\"font-weight: bold\">Model: \"sequential_3\"</span>\n",
       "</pre>\n"
      ],
      "text/plain": [
       "\u001b[1mModel: \"sequential_3\"\u001b[0m\n"
      ]
     },
     "metadata": {},
     "output_type": "display_data"
    },
    {
     "data": {
      "text/html": [
       "<pre style=\"white-space:pre;overflow-x:auto;line-height:normal;font-family:Menlo,'DejaVu Sans Mono',consolas,'Courier New',monospace\">┏━━━━━━━━━━━━━━━━━━━━━━━━━━━━━━━━━┳━━━━━━━━━━━━━━━━━━━━━━━━┳━━━━━━━━━━━━━━━┓\n",
       "┃<span style=\"font-weight: bold\"> Layer (type)                    </span>┃<span style=\"font-weight: bold\"> Output Shape           </span>┃<span style=\"font-weight: bold\">       Param # </span>┃\n",
       "┡━━━━━━━━━━━━━━━━━━━━━━━━━━━━━━━━━╇━━━━━━━━━━━━━━━━━━━━━━━━╇━━━━━━━━━━━━━━━┩\n",
       "│ lstm_3 (<span style=\"color: #0087ff; text-decoration-color: #0087ff\">LSTM</span>)                   │ (<span style=\"color: #00d7ff; text-decoration-color: #00d7ff\">None</span>, <span style=\"color: #00af00; text-decoration-color: #00af00\">50</span>)             │        <span style=\"color: #00af00; text-decoration-color: #00af00\">10,400</span> │\n",
       "├─────────────────────────────────┼────────────────────────┼───────────────┤\n",
       "│ dense_3 (<span style=\"color: #0087ff; text-decoration-color: #0087ff\">Dense</span>)                 │ (<span style=\"color: #00d7ff; text-decoration-color: #00d7ff\">None</span>, <span style=\"color: #00af00; text-decoration-color: #00af00\">1</span>)              │            <span style=\"color: #00af00; text-decoration-color: #00af00\">51</span> │\n",
       "└─────────────────────────────────┴────────────────────────┴───────────────┘\n",
       "</pre>\n"
      ],
      "text/plain": [
       "┏━━━━━━━━━━━━━━━━━━━━━━━━━━━━━━━━━┳━━━━━━━━━━━━━━━━━━━━━━━━┳━━━━━━━━━━━━━━━┓\n",
       "┃\u001b[1m \u001b[0m\u001b[1mLayer (type)                   \u001b[0m\u001b[1m \u001b[0m┃\u001b[1m \u001b[0m\u001b[1mOutput Shape          \u001b[0m\u001b[1m \u001b[0m┃\u001b[1m \u001b[0m\u001b[1m      Param #\u001b[0m\u001b[1m \u001b[0m┃\n",
       "┡━━━━━━━━━━━━━━━━━━━━━━━━━━━━━━━━━╇━━━━━━━━━━━━━━━━━━━━━━━━╇━━━━━━━━━━━━━━━┩\n",
       "│ lstm_3 (\u001b[38;5;33mLSTM\u001b[0m)                   │ (\u001b[38;5;45mNone\u001b[0m, \u001b[38;5;34m50\u001b[0m)             │        \u001b[38;5;34m10,400\u001b[0m │\n",
       "├─────────────────────────────────┼────────────────────────┼───────────────┤\n",
       "│ dense_3 (\u001b[38;5;33mDense\u001b[0m)                 │ (\u001b[38;5;45mNone\u001b[0m, \u001b[38;5;34m1\u001b[0m)              │            \u001b[38;5;34m51\u001b[0m │\n",
       "└─────────────────────────────────┴────────────────────────┴───────────────┘\n"
      ]
     },
     "metadata": {},
     "output_type": "display_data"
    },
    {
     "data": {
      "text/html": [
       "<pre style=\"white-space:pre;overflow-x:auto;line-height:normal;font-family:Menlo,'DejaVu Sans Mono',consolas,'Courier New',monospace\"><span style=\"font-weight: bold\"> Total params: </span><span style=\"color: #00af00; text-decoration-color: #00af00\">10,451</span> (40.82 KB)\n",
       "</pre>\n"
      ],
      "text/plain": [
       "\u001b[1m Total params: \u001b[0m\u001b[38;5;34m10,451\u001b[0m (40.82 KB)\n"
      ]
     },
     "metadata": {},
     "output_type": "display_data"
    },
    {
     "data": {
      "text/html": [
       "<pre style=\"white-space:pre;overflow-x:auto;line-height:normal;font-family:Menlo,'DejaVu Sans Mono',consolas,'Courier New',monospace\"><span style=\"font-weight: bold\"> Trainable params: </span><span style=\"color: #00af00; text-decoration-color: #00af00\">10,451</span> (40.82 KB)\n",
       "</pre>\n"
      ],
      "text/plain": [
       "\u001b[1m Trainable params: \u001b[0m\u001b[38;5;34m10,451\u001b[0m (40.82 KB)\n"
      ]
     },
     "metadata": {},
     "output_type": "display_data"
    },
    {
     "data": {
      "text/html": [
       "<pre style=\"white-space:pre;overflow-x:auto;line-height:normal;font-family:Menlo,'DejaVu Sans Mono',consolas,'Courier New',monospace\"><span style=\"font-weight: bold\"> Non-trainable params: </span><span style=\"color: #00af00; text-decoration-color: #00af00\">0</span> (0.00 B)\n",
       "</pre>\n"
      ],
      "text/plain": [
       "\u001b[1m Non-trainable params: \u001b[0m\u001b[38;5;34m0\u001b[0m (0.00 B)\n"
      ]
     },
     "metadata": {},
     "output_type": "display_data"
    }
   ],
   "source": [
    "\n",
    "model = Sequential()\n",
    "model.add(LSTM(units=50, activation='relu', return_sequences=False, input_shape=(X.shape[1], 1)))\n",
    "model.add(Dense(units=1))\n",
    "model.compile(optimizer='adam', loss='mean_squared_error')\n",
    "model.summary()"
   ]
  },
  {
   "cell_type": "code",
   "execution_count": 60,
   "metadata": {},
   "outputs": [
    {
     "name": "stdout",
     "output_type": "stream",
     "text": [
      "Epoch 1/20\n",
      "\u001b[1m2/2\u001b[0m \u001b[32m━━━━━━━━━━━━━━━━━━━━\u001b[0m\u001b[37m\u001b[0m \u001b[1m1s\u001b[0m 18ms/step - loss: 0.3083\n",
      "Epoch 2/20\n",
      "\u001b[1m2/2\u001b[0m \u001b[32m━━━━━━━━━━━━━━━━━━━━\u001b[0m\u001b[37m\u001b[0m \u001b[1m0s\u001b[0m 2ms/step - loss: 0.2650\n",
      "Epoch 3/20\n",
      "\u001b[1m2/2\u001b[0m \u001b[32m━━━━━━━━━━━━━━━━━━━━\u001b[0m\u001b[37m\u001b[0m \u001b[1m0s\u001b[0m 3ms/step - loss: 0.2633\n",
      "Epoch 4/20\n",
      "\u001b[1m2/2\u001b[0m \u001b[32m━━━━━━━━━━━━━━━━━━━━\u001b[0m\u001b[37m\u001b[0m \u001b[1m0s\u001b[0m 3ms/step - loss: 0.2426 \n",
      "Epoch 5/20\n",
      "\u001b[1m2/2\u001b[0m \u001b[32m━━━━━━━━━━━━━━━━━━━━\u001b[0m\u001b[37m\u001b[0m \u001b[1m0s\u001b[0m 2ms/step - loss: 0.2624  \n",
      "Epoch 6/20\n",
      "\u001b[1m2/2\u001b[0m \u001b[32m━━━━━━━━━━━━━━━━━━━━\u001b[0m\u001b[37m\u001b[0m \u001b[1m0s\u001b[0m 2ms/step - loss: 0.2512\n",
      "Epoch 7/20\n",
      "\u001b[1m2/2\u001b[0m \u001b[32m━━━━━━━━━━━━━━━━━━━━\u001b[0m\u001b[37m\u001b[0m \u001b[1m0s\u001b[0m 2ms/step - loss: 0.2434  \n",
      "Epoch 8/20\n",
      "\u001b[1m2/2\u001b[0m \u001b[32m━━━━━━━━━━━━━━━━━━━━\u001b[0m\u001b[37m\u001b[0m \u001b[1m0s\u001b[0m 2ms/step - loss: 0.2181\n",
      "Epoch 9/20\n",
      "\u001b[1m2/2\u001b[0m \u001b[32m━━━━━━━━━━━━━━━━━━━━\u001b[0m\u001b[37m\u001b[0m \u001b[1m0s\u001b[0m 2ms/step - loss: 0.2193   \n",
      "Epoch 10/20\n",
      "\u001b[1m2/2\u001b[0m \u001b[32m━━━━━━━━━━━━━━━━━━━━\u001b[0m\u001b[37m\u001b[0m \u001b[1m0s\u001b[0m 2ms/step - loss: 0.2135   \n",
      "Epoch 11/20\n",
      "\u001b[1m2/2\u001b[0m \u001b[32m━━━━━━━━━━━━━━━━━━━━\u001b[0m\u001b[37m\u001b[0m \u001b[1m0s\u001b[0m 2ms/step - loss: 0.2130 \n",
      "Epoch 12/20\n",
      "\u001b[1m2/2\u001b[0m \u001b[32m━━━━━━━━━━━━━━━━━━━━\u001b[0m\u001b[37m\u001b[0m \u001b[1m0s\u001b[0m 2ms/step - loss: 0.1796\n",
      "Epoch 13/20\n",
      "\u001b[1m2/2\u001b[0m \u001b[32m━━━━━━━━━━━━━━━━━━━━\u001b[0m\u001b[37m\u001b[0m \u001b[1m0s\u001b[0m 2ms/step - loss: 0.1830   \n",
      "Epoch 14/20\n",
      "\u001b[1m2/2\u001b[0m \u001b[32m━━━━━━━━━━━━━━━━━━━━\u001b[0m\u001b[37m\u001b[0m \u001b[1m0s\u001b[0m 2ms/step - loss: 0.1799  \n",
      "Epoch 15/20\n",
      "\u001b[1m2/2\u001b[0m \u001b[32m━━━━━━━━━━━━━━━━━━━━\u001b[0m\u001b[37m\u001b[0m \u001b[1m0s\u001b[0m 2ms/step - loss: 0.1681\n",
      "Epoch 16/20\n",
      "\u001b[1m2/2\u001b[0m \u001b[32m━━━━━━━━━━━━━━━━━━━━\u001b[0m\u001b[37m\u001b[0m \u001b[1m0s\u001b[0m 2ms/step - loss: 0.1700   \n",
      "Epoch 17/20\n",
      "\u001b[1m2/2\u001b[0m \u001b[32m━━━━━━━━━━━━━━━━━━━━\u001b[0m\u001b[37m\u001b[0m \u001b[1m0s\u001b[0m 2ms/step - loss: 0.1629   \n",
      "Epoch 18/20\n",
      "\u001b[1m2/2\u001b[0m \u001b[32m━━━━━━━━━━━━━━━━━━━━\u001b[0m\u001b[37m\u001b[0m \u001b[1m0s\u001b[0m 2ms/step - loss: 0.1529\n",
      "Epoch 19/20\n",
      "\u001b[1m2/2\u001b[0m \u001b[32m━━━━━━━━━━━━━━━━━━━━\u001b[0m\u001b[37m\u001b[0m \u001b[1m0s\u001b[0m 3ms/step - loss: 0.1327\n",
      "Epoch 20/20\n",
      "\u001b[1m2/2\u001b[0m \u001b[32m━━━━━━━━━━━━━━━━━━━━\u001b[0m\u001b[37m\u001b[0m \u001b[1m0s\u001b[0m 3ms/step - loss: 0.1249  \n"
     ]
    },
    {
     "data": {
      "text/plain": [
       "<keras.src.callbacks.history.History at 0x28433de59c0>"
      ]
     },
     "execution_count": 60,
     "metadata": {},
     "output_type": "execute_result"
    }
   ],
   "source": [
    "model.fit(X, y, epochs=20, batch_size=15)"
   ]
  },
  {
   "cell_type": "code",
   "execution_count": 11,
   "metadata": {},
   "outputs": [
    {
     "name": "stdout",
     "output_type": "stream",
     "text": [
      "\u001b[1m1/1\u001b[0m \u001b[32m━━━━━━━━━━━━━━━━━━━━\u001b[0m\u001b[37m\u001b[0m \u001b[1m0s\u001b[0m 14ms/step\n"
     ]
    },
    {
     "ename": "ValueError",
     "evalue": "non-broadcastable output operand with shape (17,1) doesn't match the broadcast shape (17,5)",
     "output_type": "error",
     "traceback": [
      "\u001b[1;31m---------------------------------------------------------------------------\u001b[0m",
      "\u001b[1;31mValueError\u001b[0m                                Traceback (most recent call last)",
      "Cell \u001b[1;32mIn[11], line 2\u001b[0m\n\u001b[0;32m      1\u001b[0m predicted_price \u001b[38;5;241m=\u001b[39m model\u001b[38;5;241m.\u001b[39mpredict(X)\n\u001b[1;32m----> 2\u001b[0m predicted_price \u001b[38;5;241m=\u001b[39m \u001b[43mscaler\u001b[49m\u001b[38;5;241;43m.\u001b[39;49m\u001b[43minverse_transform\u001b[49m\u001b[43m(\u001b[49m\u001b[43mpredicted_price\u001b[49m\u001b[43m)\u001b[49m\n",
      "File \u001b[1;32mc:\\Users\\felip\\Documents\\Projetos\\mlet52-fase04-api\\.venv\\lib\\site-packages\\sklearn\\preprocessing\\_data.py:574\u001b[0m, in \u001b[0;36mMinMaxScaler.inverse_transform\u001b[1;34m(self, X)\u001b[0m\n\u001b[0;32m    564\u001b[0m xp, _ \u001b[38;5;241m=\u001b[39m get_namespace(X)\n\u001b[0;32m    566\u001b[0m X \u001b[38;5;241m=\u001b[39m check_array(\n\u001b[0;32m    567\u001b[0m     X,\n\u001b[0;32m    568\u001b[0m     copy\u001b[38;5;241m=\u001b[39m\u001b[38;5;28mself\u001b[39m\u001b[38;5;241m.\u001b[39mcopy,\n\u001b[1;32m   (...)\u001b[0m\n\u001b[0;32m    571\u001b[0m     force_all_finite\u001b[38;5;241m=\u001b[39m\u001b[38;5;124m\"\u001b[39m\u001b[38;5;124mallow-nan\u001b[39m\u001b[38;5;124m\"\u001b[39m,\n\u001b[0;32m    572\u001b[0m )\n\u001b[1;32m--> 574\u001b[0m X \u001b[38;5;241m-\u001b[39m\u001b[38;5;241m=\u001b[39m \u001b[38;5;28mself\u001b[39m\u001b[38;5;241m.\u001b[39mmin_\n\u001b[0;32m    575\u001b[0m X \u001b[38;5;241m/\u001b[39m\u001b[38;5;241m=\u001b[39m \u001b[38;5;28mself\u001b[39m\u001b[38;5;241m.\u001b[39mscale_\n\u001b[0;32m    576\u001b[0m \u001b[38;5;28;01mreturn\u001b[39;00m X\n",
      "\u001b[1;31mValueError\u001b[0m: non-broadcastable output operand with shape (17,1) doesn't match the broadcast shape (17,5)"
     ]
    }
   ],
   "source": [
    "predicted_price = model.predict(X)\n",
    "predicted_price = scaler.inverse_transform(predicted_price)"
   ]
  },
  {
   "cell_type": "code",
   "execution_count": 10,
   "metadata": {},
   "outputs": [
    {
     "name": "stdout",
     "output_type": "stream",
     "text": [
      "[[0.25703034]\n",
      " [0.2661753 ]\n",
      " [0.31273273]\n",
      " [0.34713826]\n",
      " [0.36194795]\n",
      " [0.39094648]\n",
      " [0.4537224 ]\n",
      " [0.4706244 ]\n",
      " [0.49057022]\n",
      " [0.52282614]\n",
      " [0.50801027]\n",
      " [0.4922849 ]\n",
      " [0.47218457]\n",
      " [0.42982727]\n",
      " [0.37813434]\n",
      " [0.35255167]\n",
      " [0.36456817]]\n"
     ]
    }
   ],
   "source": [
    "print(predicted_price)"
   ]
  },
  {
   "cell_type": "code",
   "execution_count": 57,
   "metadata": {},
   "outputs": [],
   "source": [
    "model.save('teste_model.keras')"
   ]
  },
  {
   "cell_type": "code",
   "execution_count": 63,
   "metadata": {},
   "outputs": [],
   "source": [
    "load_teste_model = load_model('teste_model.keras')"
   ]
  },
  {
   "cell_type": "code",
   "execution_count": 67,
   "metadata": {},
   "outputs": [
    {
     "ename": "ValueError",
     "evalue": "Unrecognized data type: x=23 (of type <class 'int'>)",
     "output_type": "error",
     "traceback": [
      "\u001b[1;31m---------------------------------------------------------------------------\u001b[0m",
      "\u001b[1;31mValueError\u001b[0m                                Traceback (most recent call last)",
      "Cell \u001b[1;32mIn[67], line 1\u001b[0m\n\u001b[1;32m----> 1\u001b[0m train_predictions \u001b[38;5;241m=\u001b[39m \u001b[43mmodel\u001b[49m\u001b[38;5;241;43m.\u001b[39;49m\u001b[43mpredict\u001b[49m\u001b[43m(\u001b[49m\u001b[38;5;241;43m23\u001b[39;49m\u001b[43m)\u001b[49m\u001b[38;5;241m.\u001b[39mflatten()\n\u001b[0;32m      2\u001b[0m train_result \u001b[38;5;241m=\u001b[39m pd\u001b[38;5;241m.\u001b[39mDataFrame(data\u001b[38;5;241m=\u001b[39m{\u001b[38;5;124m'\u001b[39m\u001b[38;5;124mprediction\u001b[39m\u001b[38;5;124m'\u001b[39m:train_predictions,\u001b[38;5;124m'\u001b[39m\u001b[38;5;124moriginal\u001b[39m\u001b[38;5;124m'\u001b[39m:y})\n",
      "File \u001b[1;32mc:\\Users\\felip\\Documents\\Projetos\\mlet52-fase04-api\\.venv\\lib\\site-packages\\keras\\src\\utils\\traceback_utils.py:122\u001b[0m, in \u001b[0;36mfilter_traceback.<locals>.error_handler\u001b[1;34m(*args, **kwargs)\u001b[0m\n\u001b[0;32m    119\u001b[0m     filtered_tb \u001b[38;5;241m=\u001b[39m _process_traceback_frames(e\u001b[38;5;241m.\u001b[39m__traceback__)\n\u001b[0;32m    120\u001b[0m     \u001b[38;5;66;03m# To get the full stack trace, call:\u001b[39;00m\n\u001b[0;32m    121\u001b[0m     \u001b[38;5;66;03m# `keras.config.disable_traceback_filtering()`\u001b[39;00m\n\u001b[1;32m--> 122\u001b[0m     \u001b[38;5;28;01mraise\u001b[39;00m e\u001b[38;5;241m.\u001b[39mwith_traceback(filtered_tb) \u001b[38;5;28;01mfrom\u001b[39;00m \u001b[38;5;28;01mNone\u001b[39;00m\n\u001b[0;32m    123\u001b[0m \u001b[38;5;28;01mfinally\u001b[39;00m:\n\u001b[0;32m    124\u001b[0m     \u001b[38;5;28;01mdel\u001b[39;00m filtered_tb\n",
      "File \u001b[1;32mc:\\Users\\felip\\Documents\\Projetos\\mlet52-fase04-api\\.venv\\lib\\site-packages\\keras\\src\\trainers\\data_adapters\\__init__.py:120\u001b[0m, in \u001b[0;36mget_data_adapter\u001b[1;34m(x, y, sample_weight, batch_size, steps_per_epoch, shuffle, class_weight)\u001b[0m\n\u001b[0;32m    112\u001b[0m     \u001b[38;5;28;01mreturn\u001b[39;00m GeneratorDataAdapter(x)\n\u001b[0;32m    113\u001b[0m     \u001b[38;5;66;03m# TODO: should we warn or not?\u001b[39;00m\n\u001b[0;32m    114\u001b[0m     \u001b[38;5;66;03m# warnings.warn(\u001b[39;00m\n\u001b[0;32m    115\u001b[0m     \u001b[38;5;66;03m#     \"`shuffle=True` was passed, but will be ignored since the \"\u001b[39;00m\n\u001b[1;32m   (...)\u001b[0m\n\u001b[0;32m    118\u001b[0m     \u001b[38;5;66;03m# )\u001b[39;00m\n\u001b[0;32m    119\u001b[0m \u001b[38;5;28;01melse\u001b[39;00m:\n\u001b[1;32m--> 120\u001b[0m     \u001b[38;5;28;01mraise\u001b[39;00m \u001b[38;5;167;01mValueError\u001b[39;00m(\u001b[38;5;124mf\u001b[39m\u001b[38;5;124m\"\u001b[39m\u001b[38;5;124mUnrecognized data type: x=\u001b[39m\u001b[38;5;132;01m{\u001b[39;00mx\u001b[38;5;132;01m}\u001b[39;00m\u001b[38;5;124m (of type \u001b[39m\u001b[38;5;132;01m{\u001b[39;00m\u001b[38;5;28mtype\u001b[39m(x)\u001b[38;5;132;01m}\u001b[39;00m\u001b[38;5;124m)\u001b[39m\u001b[38;5;124m\"\u001b[39m)\n",
      "\u001b[1;31mValueError\u001b[0m: Unrecognized data type: x=23 (of type <class 'int'>)"
     ]
    }
   ],
   "source": [
    "train_predictions = model.predict(23).flatten()\n",
    "train_result = pd.DataFrame(data={'prediction':train_predictions,'original':y})"
   ]
  },
  {
   "cell_type": "code",
   "execution_count": 65,
   "metadata": {},
   "outputs": [
    {
     "data": {
      "text/html": [
       "<div>\n",
       "<style scoped>\n",
       "    .dataframe tbody tr th:only-of-type {\n",
       "        vertical-align: middle;\n",
       "    }\n",
       "\n",
       "    .dataframe tbody tr th {\n",
       "        vertical-align: top;\n",
       "    }\n",
       "\n",
       "    .dataframe thead th {\n",
       "        text-align: right;\n",
       "    }\n",
       "</style>\n",
       "<table border=\"1\" class=\"dataframe\">\n",
       "  <thead>\n",
       "    <tr style=\"text-align: right;\">\n",
       "      <th></th>\n",
       "      <th>prediction</th>\n",
       "      <th>original</th>\n",
       "    </tr>\n",
       "  </thead>\n",
       "  <tbody>\n",
       "    <tr>\n",
       "      <th>0</th>\n",
       "      <td>0.155556</td>\n",
       "      <td>0.374421</td>\n",
       "    </tr>\n",
       "    <tr>\n",
       "      <th>1</th>\n",
       "      <td>0.167770</td>\n",
       "      <td>0.000000</td>\n",
       "    </tr>\n",
       "    <tr>\n",
       "      <th>2</th>\n",
       "      <td>0.158504</td>\n",
       "      <td>0.238426</td>\n",
       "    </tr>\n",
       "    <tr>\n",
       "      <th>3</th>\n",
       "      <td>0.161802</td>\n",
       "      <td>0.308448</td>\n",
       "    </tr>\n",
       "    <tr>\n",
       "      <th>4</th>\n",
       "      <td>0.160754</td>\n",
       "      <td>0.370370</td>\n",
       "    </tr>\n",
       "    <tr>\n",
       "      <th>5</th>\n",
       "      <td>0.174015</td>\n",
       "      <td>0.700810</td>\n",
       "    </tr>\n",
       "    <tr>\n",
       "      <th>6</th>\n",
       "      <td>0.193237</td>\n",
       "      <td>0.693865</td>\n",
       "    </tr>\n",
       "    <tr>\n",
       "      <th>7</th>\n",
       "      <td>0.209596</td>\n",
       "      <td>0.460648</td>\n",
       "    </tr>\n",
       "    <tr>\n",
       "      <th>8</th>\n",
       "      <td>0.211900</td>\n",
       "      <td>0.509838</td>\n",
       "    </tr>\n",
       "    <tr>\n",
       "      <th>9</th>\n",
       "      <td>0.203952</td>\n",
       "      <td>0.575231</td>\n",
       "    </tr>\n",
       "    <tr>\n",
       "      <th>10</th>\n",
       "      <td>0.199820</td>\n",
       "      <td>0.516204</td>\n",
       "    </tr>\n",
       "    <tr>\n",
       "      <th>11</th>\n",
       "      <td>0.201426</td>\n",
       "      <td>0.558449</td>\n",
       "    </tr>\n",
       "    <tr>\n",
       "      <th>12</th>\n",
       "      <td>0.204069</td>\n",
       "      <td>0.447916</td>\n",
       "    </tr>\n",
       "    <tr>\n",
       "      <th>13</th>\n",
       "      <td>0.197800</td>\n",
       "      <td>0.067129</td>\n",
       "    </tr>\n",
       "    <tr>\n",
       "      <th>14</th>\n",
       "      <td>0.178147</td>\n",
       "      <td>0.219907</td>\n",
       "    </tr>\n",
       "    <tr>\n",
       "      <th>15</th>\n",
       "      <td>0.166387</td>\n",
       "      <td>0.257523</td>\n",
       "    </tr>\n",
       "    <tr>\n",
       "      <th>16</th>\n",
       "      <td>0.160126</td>\n",
       "      <td>0.480903</td>\n",
       "    </tr>\n",
       "    <tr>\n",
       "      <th>17</th>\n",
       "      <td>0.176207</td>\n",
       "      <td>0.810764</td>\n",
       "    </tr>\n",
       "    <tr>\n",
       "      <th>18</th>\n",
       "      <td>0.200836</td>\n",
       "      <td>1.000000</td>\n",
       "    </tr>\n",
       "  </tbody>\n",
       "</table>\n",
       "</div>"
      ],
      "text/plain": [
       "    prediction  original\n",
       "0     0.155556  0.374421\n",
       "1     0.167770  0.000000\n",
       "2     0.158504  0.238426\n",
       "3     0.161802  0.308448\n",
       "4     0.160754  0.370370\n",
       "5     0.174015  0.700810\n",
       "6     0.193237  0.693865\n",
       "7     0.209596  0.460648\n",
       "8     0.211900  0.509838\n",
       "9     0.203952  0.575231\n",
       "10    0.199820  0.516204\n",
       "11    0.201426  0.558449\n",
       "12    0.204069  0.447916\n",
       "13    0.197800  0.067129\n",
       "14    0.178147  0.219907\n",
       "15    0.166387  0.257523\n",
       "16    0.160126  0.480903\n",
       "17    0.176207  0.810764\n",
       "18    0.200836  1.000000"
      ]
     },
     "execution_count": 65,
     "metadata": {},
     "output_type": "execute_result"
    }
   ],
   "source": [
    "train_result"
   ]
  }
 ],
 "metadata": {
  "kernelspec": {
   "display_name": ".venv",
   "language": "python",
   "name": "python3"
  },
  "language_info": {
   "codemirror_mode": {
    "name": "ipython",
    "version": 3
   },
   "file_extension": ".py",
   "mimetype": "text/x-python",
   "name": "python",
   "nbconvert_exporter": "python",
   "pygments_lexer": "ipython3",
   "version": "3.10.11"
  }
 },
 "nbformat": 4,
 "nbformat_minor": 2
}
